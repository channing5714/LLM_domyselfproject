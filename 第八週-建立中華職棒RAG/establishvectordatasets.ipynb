{
 "cells": [
  {
   "cell_type": "markdown",
   "id": "456bcaa6",
   "metadata": {},
   "source": [
    "### 1. 建立資料夾"
   ]
  },
  {
   "cell_type": "code",
   "execution_count": null,
   "id": "d1fd1e2b",
   "metadata": {},
   "outputs": [],
   "source": [
    "import os   #匯入Python的OS模組，用來進行與作業系統相關的操作，例如建立資料夾\n",
    "upload_dir = \"uploaded_docs\"  # 指定一個資料夾名稱，用來儲存使用者上傳的檔案\n",
    "os.makedirs(upload_dir, exist_ok=True) # 建立資料夾，如果 \"uploaded_docs\" 資料夾不存在就建立它；若已存在，則不會報錯\n",
    "print(f\"請將你的 .txt, .pdf, .docx 檔案放到這個資料夾中： {upload_dir}\")\n",
    "# 印出提示訊息，告訴使用者將要處理的 .txt、.pdf、.docx 檔案放進這個資料夾中"
   ]
  },
  {
   "cell_type": "markdown",
   "id": "28d9992a",
   "metadata": {},
   "source": [
    "### 2. 更新必要套件並引入"
   ]
  },
  {
   "cell_type": "code",
   "execution_count": null,
   "id": "cfb143ce",
   "metadata": {},
   "outputs": [],
   "source": [
    "!pip install -U langchain langchain-community pypdf python-docx sentence-transformers faiss-cpu "
   ]
  },
  {
   "cell_type": "code",
   "execution_count": null,
   "id": "de6ac2a5",
   "metadata": {},
   "outputs": [],
   "source": [
    "from langchain_community.document_loaders import TextLoader, PyPDFLoader, UnstructuredWordDocumentLoader\n",
    "# 從langchain_community 模組中匯入三種文件載入器 。用TextLoader來載入純文字(.txt) 檔案，用來載入 PDF 檔案\n",
    "# 用UnstructuredWordDocumentLoader來載入 Word (.docx) 檔案，並支援複雜格式的解析\n",
    "from langchain.text_splitter import RecursiveCharacterTextSplitter\n",
    "# 從langchain 套件中匯入文字切割工具\n",
    "\n",
    "from langchain.embeddings import HuggingFaceEmbeddings\n",
    "\n",
    "# 匯入 Hugging Face 的向量嵌入模型（embeddings）\n",
    "\n",
    "from langchain.vectorstores import FAISS\n",
    "\n",
    "# 匯入 FAISS 向量資料庫工具"
   ]
  },
  {
   "cell_type": "markdown",
   "id": "a3821490",
   "metadata": {},
   "source": [
    "### 3. 依 e5 建議加入\n",
    "自訂支援 E5 的 embedding 模型（加上 \"passage:\" / \"query:\" 前綴）"
   ]
  },
  {
   "cell_type": "code",
   "execution_count": null,
   "id": "35799225",
   "metadata": {},
   "outputs": [],
   "source": [
    "# 自訂一個嵌入模型\n",
    "\n",
    "from langchain.embeddings import HuggingFaceEmbeddings\n",
    "\n",
    "class CustomE5Embedding(HuggingFaceEmbeddings):\n",
    "\n",
    "# 定義一個新的類別 CustomE5Embedding，繼承自 HuggingFaceEmbeddings，用來擴充功能。\n",
    "\n",
    "    def embed_documents(self, texts):\n",
    "        texts = [f\"passage: {t}\" for t in texts]\n",
    "        return super().embed_documents(texts)\n",
    "\n",
    "    def embed_query(self, text):\n",
    "        return super().embed_query(f\"query: {text}\")"
   ]
  },
  {
   "cell_type": "markdown",
   "id": "d82af0f3",
   "metadata": {},
   "source": [
    "### 4. 載入文件"
   ]
  },
  {
   "cell_type": "code",
   "execution_count": null,
   "id": "e0a940af",
   "metadata": {},
   "outputs": [],
   "source": [
    "folder_path = upload_dir  # 設定要讀取檔案的資料夾路徑（這裡使用之前定義的 uploaded_docs 資料夾）\n",
    "documents = []  # 建立一個空的列表，用來儲存所有讀取進來的文件內容\n",
    "\n",
    "# 遍歷資料夾中所有檔案\n",
    "\n",
    "for file in os.listdir(folder_path):\n",
    "    path = os.path.join(folder_path, file)\n",
    "    # 根據檔案副檔名使用對應的文件載入器\n",
    "    if file.endswith(\".txt\"):\n",
    "        loader = TextLoader(path) #如果是.txt檔案，就使用TextLoader 載入\n",
    "    elif file.endswith(\".pdf\"):\n",
    "        loader = PyPDFLoader(path) # 如果是.pdf檔案，就使用 PyPDFLoader 載入\n",
    "    elif file.endswith(\".docx\"):\n",
    "        loader = UnstructuredWordDocumentLoader(path) #如果是.docx 檔案，就使用 Word 檔解析器\n",
    "    else:\n",
    "        continue\n",
    "    documents.extend(loader.load())"
   ]
  },
  {
   "cell_type": "markdown",
   "id": "cd3d4cdb",
   "metadata": {},
   "source": [
    "### 5. 建立向量資料庫"
   ]
  },
  {
   "cell_type": "code",
   "execution_count": null,
   "id": "df82f748",
   "metadata": {},
   "outputs": [],
   "source": [
    "splitter = RecursiveCharacterTextSplitter(chunk_size=500, chunk_overlap=100)\n",
    "\n",
    "# 每個切割後的段落最大長度為500字元(包括空白與標點)\n",
    "# 每個段落之間會重疊 100 字元，以保留語意連貫性)\n",
    "\n",
    "\n",
    "# 將先前讀取進來的 documents 切割成多個小段落\n",
    "split_docs = splitter.split_documents(documents)"
   ]
  },
  {
   "cell_type": "code",
   "execution_count": null,
   "id": "c695ff0e",
   "metadata": {},
   "outputs": [],
   "source": [
    "embedding_model = CustomE5Embedding(model_name=\"intfloat/multilingual-e5-small\")\n",
    "vectorstore = FAISS.from_documents(split_docs, embedding_model)"
   ]
  },
  {
   "cell_type": "markdown",
   "id": "955c0711",
   "metadata": {},
   "source": [
    "### 6. 儲存向量資料庫"
   ]
  },
  {
   "cell_type": "code",
   "execution_count": null,
   "id": "34a473b0",
   "metadata": {},
   "outputs": [],
   "source": [
    "vectorstore.save_local(\"faiss_db\")"
   ]
  },
  {
   "cell_type": "code",
   "execution_count": null,
   "id": "de900353",
   "metadata": {},
   "outputs": [],
   "source": [
    "!zip -r faiss_db.zip faiss_db"
   ]
  },
  {
   "cell_type": "code",
   "execution_count": null,
   "id": "23ed2b81",
   "metadata": {},
   "outputs": [],
   "source": [
    "print(\"✅ 壓縮好的向量資料庫已儲存為 'faiss_db.zip'，請下載此檔案備份。\")"
   ]
  }
 ],
 "metadata": {
  "kernelspec": {
   "display_name": "GraphRAG",
   "language": "python",
   "name": "python3"
  },
  "language_info": {
   "name": "python",
   "version": "3.10.16"
  }
 },
 "nbformat": 4,
 "nbformat_minor": 5
}
