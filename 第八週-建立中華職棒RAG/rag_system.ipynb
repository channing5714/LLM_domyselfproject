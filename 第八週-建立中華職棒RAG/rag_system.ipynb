{
 "cells": [
  {
   "cell_type": "code",
   "execution_count": null,
   "id": "d53700dd",
   "metadata": {},
   "outputs": [],
   "source": [
    "# prompt: 用Linux 指令，讀入一個在網路上的，網址是URL的檔案\n",
    "\n",
    "# 將URL替換為您要下載的檔案的實際網址\n",
    "URL = \"https://drive.google.com/uc?export=download&id=1wJUq74hxSE0u6GS11yUFCjAs4jpqSnwa\"  \n",
    "\n",
    "# 使用 wget 下載檔案，並將其命名為 downloaded_file.txt\n",
    "!wget -O faiss_db.zip \"$URL\""
   ]
  },
  {
   "cell_type": "markdown",
   "id": "dd00a89b",
   "metadata": {},
   "source": [
    "!unzip faiss_db.zip"
   ]
  },
  {
   "cell_type": "markdown",
   "id": "e7842aa6",
   "metadata": {},
   "source": [
    "安裝並引入必要套件"
   ]
  },
  {
   "cell_type": "code",
   "execution_count": null,
   "id": "0e93c99f",
   "metadata": {},
   "outputs": [],
   "source": [
    "!pip install -U langchain langchain-community sentence-transformers faiss-cpu gradio openai # 安裝必要套件"
   ]
  },
  {
   "cell_type": "code",
   "execution_count": null,
   "id": "0d456715",
   "metadata": {},
   "outputs": [],
   "source": [
    "from openai import OpenAI\n",
    "import gradio as gr"
   ]
  },
  {
   "cell_type": "markdown",
   "id": "c704bace",
   "metadata": {},
   "source": [
    "### 2. 自訂 E5 embedding 類別"
   ]
  },
  {
   "cell_type": "code",
   "execution_count": null,
   "id": "f42d918b",
   "metadata": {},
   "outputs": [],
   "source": [
    "class CustomE5Embedding(HuggingFaceEmbeddings):\n",
    "    def embed_documents(self, texts):\n",
    "        texts = [f\"passage: {t}\" for t in texts]\n",
    "        return super().embed_documents(texts)\n",
    "\n",
    "    def embed_query(self, text):\n",
    "        return super().embed_query(f\"query: {text}\")"
   ]
  },
  {
   "cell_type": "markdown",
   "id": "e30dc9e8",
   "metadata": {},
   "source": [
    "### 3. 載入 faiss_db"
   ]
  },
  {
   "cell_type": "code",
   "execution_count": null,
   "id": "eec4660f",
   "metadata": {},
   "outputs": [],
   "source": [
    "embedding_model = CustomE5Embedding(model_name=\"intfloat/multilingual-e5-small\")\n",
    "db = FAISS.load_local(\"faiss_db\", embedding_model, allow_dangerous_deserialization=True)\n",
    "retriever = db.as_retriever()"
   ]
  },
  {
   "cell_type": "markdown",
   "id": "d87f692d",
   "metadata": {},
   "source": [
    "### 4. 設定好我們要的 LLM"
   ]
  },
  {
   "cell_type": "code",
   "execution_count": null,
   "id": "3183b991",
   "metadata": {},
   "outputs": [],
   "source": [
    "import os\n",
    "from google.colab import userdata"
   ]
  },
  {
   "cell_type": "code",
   "execution_count": null,
   "id": "db4670c6",
   "metadata": {},
   "outputs": [],
   "source": [
    "api_key = userdata.get('Groq')"
   ]
  },
  {
   "cell_type": "code",
   "execution_count": null,
   "id": "f48e1b0f",
   "metadata": {},
   "outputs": [],
   "source": [
    "os.environ[\"OPENAI_API_KEY\"] = api_key"
   ]
  },
  {
   "cell_type": "code",
   "execution_count": null,
   "id": "224a04cd",
   "metadata": {},
   "outputs": [],
   "source": [
    "model = \"llama3-70b-8192\"\n",
    "base_url=\"https://api.groq.com/openai/v1\""
   ]
  },
  {
   "cell_type": "code",
   "execution_count": null,
   "id": "c506375d",
   "metadata": {},
   "outputs": [],
   "source": [
    "client = OpenAI(\n",
    "    base_url=base_url # 使用 OpenAI 本身不需要這段\n",
    ")"
   ]
  },
  {
   "cell_type": "code",
   "execution_count": null,
   "id": "c50067db",
   "metadata": {},
   "outputs": [],
   "source": [
    "system_prompt = \"你是政大的 AI 自主學習輔導員，請根據資料來回應學生的問題。請親切、簡潔並附帶具體建議。請用台灣習慣的中文回應。\"\n",
    "\n",
    "prompt_template = \"\"\"\n",
    "根據下列資料回答問題：\n",
    "{retrieved_chunks}\n",
    "\n",
    "使用者的問題是：{question}\n",
    "\n",
    "請根據資料內容回覆，若資料不足請告訴同學可以請教學務處課外活動組的老師。\n",
    "\"\"\""
   ]
  },
  {
   "cell_type": "markdown",
   "id": "25810485",
   "metadata": {},
   "source": [
    "### 6. 使用 RAG 來回應\n",
    "\n",
    "搜尋與使用者問題相關的資訊，根據我們的 prompt 樣版去讓 LLM 回應。"
   ]
  },
  {
   "cell_type": "code",
   "execution_count": null,
   "id": "0e43be57",
   "metadata": {},
   "outputs": [],
   "source": [
    "chat_history = []\n",
    "\n",
    "def chat_with_rag(user_input):\n",
    "    global chat_history\n",
    "    # 取回相關資料\n",
    "    docs = retriever.get_relevant_documents(user_input)\n",
    "    retrieved_chunks = \"\\n\\n\".join([doc.page_content for doc in docs])\n",
    "\n",
    "    # 將自定 prompt 套入格式\n",
    "    final_prompt = prompt_template.format(retrieved_chunks=retrieved_chunks, question=user_input)\n",
    "\n",
    "    # 呼叫 OpenAI API\n",
    "    response = client.chat.completions.create(\n",
    "    model=model,\n",
    "    messages=[\n",
    "        {\"role\": \"system\", \"content\": system_prompt},\n",
    "        {\"role\": \"user\", \"content\": final_prompt},\n",
    "    ]\n",
    "    )\n",
    "    answer = response.choices[0].message.content\n",
    "\n",
    "    chat_history.append((user_input, answer))\n",
    "    return answer"
   ]
  },
  {
   "cell_type": "markdown",
   "id": "aff27a92",
   "metadata": {},
   "source": [
    "### 7. 用 Gradio 打造 Web App"
   ]
  },
  {
   "cell_type": "code",
   "execution_count": null,
   "id": "578c9dfe",
   "metadata": {},
   "outputs": [],
   "source": [
    "with gr.Blocks() as demo:\n",
    "    gr.Markdown(\"# 🎓 AI 自主學習諮詢師\")\n",
    "    chatbot = gr.Chatbot()\n",
    "    msg = gr.Textbox(placeholder=\"請輸入你的問題...\")\n",
    "\n",
    "    def respond(message, chat_history_local):\n",
    "        response = chat_with_rag(message)\n",
    "        chat_history_local.append((message, response))\n",
    "        return \"\", chat_history_local\n",
    "\n",
    "    msg.submit(respond, [msg, chatbot], [msg, chatbot])\n",
    "\n",
    "demo.launch(debug=True)"
   ]
  }
 ],
 "metadata": {
  "language_info": {
   "name": "python"
  }
 },
 "nbformat": 4,
 "nbformat_minor": 5
}
